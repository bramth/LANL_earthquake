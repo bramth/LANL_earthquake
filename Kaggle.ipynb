{
 "cells": [
  {
   "cell_type": "code",
   "execution_count": 2,
   "metadata": {},
   "outputs": [],
   "source": [
    "import pandas as pd\n",
    "import numpy as np\n",
    "import matplotlib.pyplot as plt\n",
    "from scipy import signal\n",
    "# import DTW_tools as DTW\n",
    "# from importlib import reload\n",
    "# from statsmodels.tsa.stattools import adfuller\n",
    "# from statsmodels.tsa.seasonal import seasonal_decompose\n",
    "# from statsmodels.tsa.arima_model import ARIMA\n",
    "# from statsmodels.tsa.stattools import acf, pacf\n",
    "# from statsmodels.tsa.statespace.sarimax import SARIMAX"
   ]
  },
  {
   "cell_type": "code",
   "execution_count": 11,
   "metadata": {},
   "outputs": [
    {
     "name": "stdout",
     "output_type": "stream",
     "text": [
      "    acoustic_data  time_to_failure\n",
      "0              12           1.4691\n",
      "1               6           1.4691\n",
      "2               8           1.4691\n",
      "3               5           1.4691\n",
      "4               8           1.4691\n",
      "5               8           1.4691\n",
      "6               9           1.4691\n",
      "7               7           1.4691\n",
      "8              -5           1.4691\n",
      "9               3           1.4691\n",
      "10              5           1.4691\n",
      "11              2           1.4691\n",
      "12              2           1.4691\n",
      "13              3           1.4691\n",
      "14             -1           1.4691\n",
      "15              5           1.4691\n",
      "16              6           1.4691\n",
      "17              4           1.4691\n",
      "18              3           1.4691\n",
      "19              5           1.4691\n",
      "20              4           1.4691\n",
      "21              2           1.4691\n",
      "22              6           1.4691\n",
      "23              7           1.4691\n",
      "24              7           1.4691\n",
      "25              8           1.4691\n",
      "26             14           1.4691\n",
      "27              9           1.4691\n",
      "28              4           1.4691\n",
      "29              7           1.4691\n",
      "..            ...              ...\n",
      "70              6           1.4691\n",
      "71              0           1.4691\n",
      "72              4           1.4691\n",
      "73              7           1.4691\n",
      "74              4           1.4691\n",
      "75              3           1.4691\n",
      "76              5           1.4691\n",
      "77              7           1.4691\n",
      "78              3           1.4691\n",
      "79              6           1.4691\n",
      "80              6           1.4691\n",
      "81              7           1.4691\n",
      "82              8           1.4691\n",
      "83              8           1.4691\n",
      "84             13           1.4691\n",
      "85              8           1.4691\n",
      "86              9           1.4691\n",
      "87              6           1.4691\n",
      "88              6           1.4691\n",
      "89             -2           1.4691\n",
      "90              1           1.4691\n",
      "91              2           1.4691\n",
      "92              3           1.4691\n",
      "93              6           1.4691\n",
      "94             11           1.4691\n",
      "95              9           1.4691\n",
      "96              9           1.4691\n",
      "97             12           1.4691\n",
      "98              9           1.4691\n",
      "99              9           1.4691\n",
      "\n",
      "[100 rows x 2 columns]\n"
     ]
    },
    {
     "data": {
      "image/png": "[encoded data removed]",
      "text/plain": [
       "<Figure size 432x288 with 1 Axes>"
      ]
     },
     "metadata": {
      "needs_background": "light"
     },
     "output_type": "display_data"
    }
   ],
   "source": [
    "chunksize = 10**6\n",
    "for data in  pd.read_csv('data/train.csv',chunksize=chunksize):\n",
    "    print(data.head(100))\n",
    "    data.plot()\n",
    "    break"
   ]
  },
  {
   "cell_type": "code",
   "execution_count": null,
   "metadata": {},
   "outputs": [],
   "source": []
  },
  {
   "cell_type": "code",
   "execution_count": null,
   "metadata": {},
   "outputs": [],
   "source": []
  }
 ],
 "metadata": {
  "kernelspec": {
   "display_name": "Python 3",
   "language": "python",
   "name": "python3"
  },
  "language_info": {
   "codemirror_mode": {
    "name": "ipython",
    "version": 3
   },
   "file_extension": ".py",
   "mimetype": "text/x-python",
   "name": "python",
   "nbconvert_exporter": "python",
   "pygments_lexer": "ipython3",
   "version": "3.7.1"
  }
 },
 "nbformat": 4,
 "nbformat_minor": 2
}
